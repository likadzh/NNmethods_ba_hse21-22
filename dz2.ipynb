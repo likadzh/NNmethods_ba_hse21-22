{
 "cells": [
  {
   "cell_type": "code",
   "execution_count": 2,
   "id": "67fc7b0a",
   "metadata": {},
   "outputs": [],
   "source": [
    "import pandas as pd\n",
    "import numpy as np\n",
    "from string import punctuation\n",
    "from collections import Counter\n",
    "\n",
    "from sklearn.model_selection import train_test_split\n",
    "from sklearn.utils import shuffle\n",
    "import torch\n",
    "import torch.nn as nn\n",
    "import torch.nn.functional as F\n",
    "from torch.utils.data import Dataset, DataLoader, RandomSampler, SequentialSampler\n",
    "from torch.nn.utils.rnn import pad_sequence\n",
    "import torch.optim as optim\n",
    "from torchmetrics import F1\n",
    "from torchmetrics.functional import f1, recall\n",
    "import ipdb"
   ]
  },
  {
   "cell_type": "code",
   "execution_count": 3,
   "id": "ccb26bd9",
   "metadata": {},
   "outputs": [],
   "source": [
    "pos_tweets = pd.read_csv('positive.csv', sep=';', encoding='utf-8', header=None)\n",
    "neg_tweets = pd.read_csv('negative.csv', sep=';', encoding='utf-8', header=None)"
   ]
  },
  {
   "cell_type": "code",
   "execution_count": 4,
   "id": "7ad26336",
   "metadata": {},
   "outputs": [
    {
     "data": {
      "text/html": [
       "<div>\n",
       "<style scoped>\n",
       "    .dataframe tbody tr th:only-of-type {\n",
       "        vertical-align: middle;\n",
       "    }\n",
       "\n",
       "    .dataframe tbody tr th {\n",
       "        vertical-align: top;\n",
       "    }\n",
       "\n",
       "    .dataframe thead th {\n",
       "        text-align: right;\n",
       "    }\n",
       "</style>\n",
       "<table border=\"1\" class=\"dataframe\">\n",
       "  <thead>\n",
       "    <tr style=\"text-align: right;\">\n",
       "      <th></th>\n",
       "      <th>0</th>\n",
       "      <th>1</th>\n",
       "      <th>2</th>\n",
       "      <th>3</th>\n",
       "      <th>4</th>\n",
       "      <th>5</th>\n",
       "      <th>6</th>\n",
       "      <th>7</th>\n",
       "      <th>8</th>\n",
       "      <th>9</th>\n",
       "      <th>10</th>\n",
       "      <th>11</th>\n",
       "    </tr>\n",
       "  </thead>\n",
       "  <tbody>\n",
       "    <tr>\n",
       "      <th>0</th>\n",
       "      <td>408906692374446080</td>\n",
       "      <td>1386325927</td>\n",
       "      <td>pleease_shut_up</td>\n",
       "      <td>@first_timee хоть я и школота, но поверь, у на...</td>\n",
       "      <td>1</td>\n",
       "      <td>0</td>\n",
       "      <td>0</td>\n",
       "      <td>0</td>\n",
       "      <td>7569</td>\n",
       "      <td>62</td>\n",
       "      <td>61</td>\n",
       "      <td>0</td>\n",
       "    </tr>\n",
       "    <tr>\n",
       "      <th>1</th>\n",
       "      <td>408906692693221377</td>\n",
       "      <td>1386325927</td>\n",
       "      <td>alinakirpicheva</td>\n",
       "      <td>Да, все-таки он немного похож на него. Но мой ...</td>\n",
       "      <td>1</td>\n",
       "      <td>0</td>\n",
       "      <td>0</td>\n",
       "      <td>0</td>\n",
       "      <td>11825</td>\n",
       "      <td>59</td>\n",
       "      <td>31</td>\n",
       "      <td>2</td>\n",
       "    </tr>\n",
       "    <tr>\n",
       "      <th>2</th>\n",
       "      <td>408906695083954177</td>\n",
       "      <td>1386325927</td>\n",
       "      <td>EvgeshaRe</td>\n",
       "      <td>RT @KatiaCheh: Ну ты идиотка) я испугалась за ...</td>\n",
       "      <td>1</td>\n",
       "      <td>0</td>\n",
       "      <td>1</td>\n",
       "      <td>0</td>\n",
       "      <td>1273</td>\n",
       "      <td>26</td>\n",
       "      <td>27</td>\n",
       "      <td>0</td>\n",
       "    </tr>\n",
       "    <tr>\n",
       "      <th>3</th>\n",
       "      <td>408906695356973056</td>\n",
       "      <td>1386325927</td>\n",
       "      <td>ikonnikova_21</td>\n",
       "      <td>RT @digger2912: \"Кто то в углу сидит и погибае...</td>\n",
       "      <td>1</td>\n",
       "      <td>0</td>\n",
       "      <td>1</td>\n",
       "      <td>0</td>\n",
       "      <td>1549</td>\n",
       "      <td>19</td>\n",
       "      <td>17</td>\n",
       "      <td>0</td>\n",
       "    </tr>\n",
       "    <tr>\n",
       "      <th>4</th>\n",
       "      <td>408906761416867842</td>\n",
       "      <td>1386325943</td>\n",
       "      <td>JumpyAlex</td>\n",
       "      <td>@irina_dyshkant Вот что значит страшилка :D\\nН...</td>\n",
       "      <td>1</td>\n",
       "      <td>0</td>\n",
       "      <td>0</td>\n",
       "      <td>0</td>\n",
       "      <td>597</td>\n",
       "      <td>16</td>\n",
       "      <td>23</td>\n",
       "      <td>1</td>\n",
       "    </tr>\n",
       "  </tbody>\n",
       "</table>\n",
       "</div>"
      ],
      "text/plain": [
       "                   0           1                2   \\\n",
       "0  408906692374446080  1386325927  pleease_shut_up   \n",
       "1  408906692693221377  1386325927  alinakirpicheva   \n",
       "2  408906695083954177  1386325927        EvgeshaRe   \n",
       "3  408906695356973056  1386325927    ikonnikova_21   \n",
       "4  408906761416867842  1386325943        JumpyAlex   \n",
       "\n",
       "                                                  3   4   5   6   7      8   \\\n",
       "0  @first_timee хоть я и школота, но поверь, у на...   1   0   0   0   7569   \n",
       "1  Да, все-таки он немного похож на него. Но мой ...   1   0   0   0  11825   \n",
       "2  RT @KatiaCheh: Ну ты идиотка) я испугалась за ...   1   0   1   0   1273   \n",
       "3  RT @digger2912: \"Кто то в углу сидит и погибае...   1   0   1   0   1549   \n",
       "4  @irina_dyshkant Вот что значит страшилка :D\\nН...   1   0   0   0    597   \n",
       "\n",
       "   9   10  11  \n",
       "0  62  61   0  \n",
       "1  59  31   2  \n",
       "2  26  27   0  \n",
       "3  19  17   0  \n",
       "4  16  23   1  "
      ]
     },
     "execution_count": 4,
     "metadata": {},
     "output_type": "execute_result"
    }
   ],
   "source": [
    "pos_tweets.head()"
   ]
  },
  {
   "cell_type": "code",
   "execution_count": 5,
   "id": "8569aee1",
   "metadata": {},
   "outputs": [
    {
     "data": {
      "text/html": [
       "<div>\n",
       "<style scoped>\n",
       "    .dataframe tbody tr th:only-of-type {\n",
       "        vertical-align: middle;\n",
       "    }\n",
       "\n",
       "    .dataframe tbody tr th {\n",
       "        vertical-align: top;\n",
       "    }\n",
       "\n",
       "    .dataframe thead th {\n",
       "        text-align: right;\n",
       "    }\n",
       "</style>\n",
       "<table border=\"1\" class=\"dataframe\">\n",
       "  <thead>\n",
       "    <tr style=\"text-align: right;\">\n",
       "      <th></th>\n",
       "      <th>0</th>\n",
       "      <th>1</th>\n",
       "      <th>2</th>\n",
       "      <th>3</th>\n",
       "      <th>4</th>\n",
       "      <th>5</th>\n",
       "      <th>6</th>\n",
       "      <th>7</th>\n",
       "      <th>8</th>\n",
       "      <th>9</th>\n",
       "      <th>10</th>\n",
       "      <th>11</th>\n",
       "    </tr>\n",
       "  </thead>\n",
       "  <tbody>\n",
       "    <tr>\n",
       "      <th>0</th>\n",
       "      <td>408906762813579264</td>\n",
       "      <td>1386325944</td>\n",
       "      <td>dugarchikbellko</td>\n",
       "      <td>на работе был полный пиддес :| и так каждое за...</td>\n",
       "      <td>-1</td>\n",
       "      <td>0</td>\n",
       "      <td>0</td>\n",
       "      <td>0</td>\n",
       "      <td>8064</td>\n",
       "      <td>111</td>\n",
       "      <td>94</td>\n",
       "      <td>2</td>\n",
       "    </tr>\n",
       "    <tr>\n",
       "      <th>1</th>\n",
       "      <td>408906818262687744</td>\n",
       "      <td>1386325957</td>\n",
       "      <td>nugemycejela</td>\n",
       "      <td>Коллеги сидят рубятся в Urban terror, а я из-з...</td>\n",
       "      <td>-1</td>\n",
       "      <td>0</td>\n",
       "      <td>0</td>\n",
       "      <td>0</td>\n",
       "      <td>26</td>\n",
       "      <td>42</td>\n",
       "      <td>39</td>\n",
       "      <td>0</td>\n",
       "    </tr>\n",
       "    <tr>\n",
       "      <th>2</th>\n",
       "      <td>408906858515398656</td>\n",
       "      <td>1386325966</td>\n",
       "      <td>4post21</td>\n",
       "      <td>@elina_4post как говорят обещаного три года жд...</td>\n",
       "      <td>-1</td>\n",
       "      <td>0</td>\n",
       "      <td>0</td>\n",
       "      <td>0</td>\n",
       "      <td>718</td>\n",
       "      <td>49</td>\n",
       "      <td>249</td>\n",
       "      <td>0</td>\n",
       "    </tr>\n",
       "    <tr>\n",
       "      <th>3</th>\n",
       "      <td>408906914437685248</td>\n",
       "      <td>1386325980</td>\n",
       "      <td>Poliwake</td>\n",
       "      <td>Желаю хорошего полёта и удачной посадки,я буду...</td>\n",
       "      <td>-1</td>\n",
       "      <td>0</td>\n",
       "      <td>0</td>\n",
       "      <td>0</td>\n",
       "      <td>10628</td>\n",
       "      <td>207</td>\n",
       "      <td>200</td>\n",
       "      <td>0</td>\n",
       "    </tr>\n",
       "    <tr>\n",
       "      <th>4</th>\n",
       "      <td>408906914723295232</td>\n",
       "      <td>1386325980</td>\n",
       "      <td>capyvixowe</td>\n",
       "      <td>Обновил за каким-то лешим surf, теперь не рабо...</td>\n",
       "      <td>-1</td>\n",
       "      <td>0</td>\n",
       "      <td>0</td>\n",
       "      <td>0</td>\n",
       "      <td>35</td>\n",
       "      <td>17</td>\n",
       "      <td>34</td>\n",
       "      <td>0</td>\n",
       "    </tr>\n",
       "  </tbody>\n",
       "</table>\n",
       "</div>"
      ],
      "text/plain": [
       "                   0           1                2   \\\n",
       "0  408906762813579264  1386325944  dugarchikbellko   \n",
       "1  408906818262687744  1386325957     nugemycejela   \n",
       "2  408906858515398656  1386325966          4post21   \n",
       "3  408906914437685248  1386325980         Poliwake   \n",
       "4  408906914723295232  1386325980       capyvixowe   \n",
       "\n",
       "                                                  3   4   5   6   7      8   \\\n",
       "0  на работе был полный пиддес :| и так каждое за...  -1   0   0   0   8064   \n",
       "1  Коллеги сидят рубятся в Urban terror, а я из-з...  -1   0   0   0     26   \n",
       "2  @elina_4post как говорят обещаного три года жд...  -1   0   0   0    718   \n",
       "3  Желаю хорошего полёта и удачной посадки,я буду...  -1   0   0   0  10628   \n",
       "4  Обновил за каким-то лешим surf, теперь не рабо...  -1   0   0   0     35   \n",
       "\n",
       "    9    10  11  \n",
       "0  111   94   2  \n",
       "1   42   39   0  \n",
       "2   49  249   0  \n",
       "3  207  200   0  \n",
       "4   17   34   0  "
      ]
     },
     "execution_count": 5,
     "metadata": {},
     "output_type": "execute_result"
    }
   ],
   "source": [
    "neg_tweets.head()"
   ]
  },
  {
   "cell_type": "code",
   "execution_count": 6,
   "id": "1c8e8c66",
   "metadata": {},
   "outputs": [],
   "source": [
    "pos_tweets.rename(columns={3:'text', 4:'label'}, inplace=True)"
   ]
  },
  {
   "cell_type": "code",
   "execution_count": 7,
   "id": "81a60700",
   "metadata": {},
   "outputs": [],
   "source": [
    "neg_tweets.rename(columns={3:'text', 4:'label'}, inplace=True)"
   ]
  },
  {
   "cell_type": "code",
   "execution_count": 8,
   "id": "86a33260",
   "metadata": {},
   "outputs": [],
   "source": [
    "neg_tweets['label'] = 0"
   ]
  },
  {
   "cell_type": "code",
   "execution_count": 9,
   "id": "f8a7efea",
   "metadata": {},
   "outputs": [],
   "source": [
    "all_tweets = pos_tweets.append(neg_tweets)"
   ]
  },
  {
   "cell_type": "code",
   "execution_count": 10,
   "id": "7dfd0af7",
   "metadata": {},
   "outputs": [],
   "source": [
    "all_tweets = all_tweets[['text','label']]"
   ]
  },
  {
   "cell_type": "code",
   "execution_count": 11,
   "id": "7b0a2593",
   "metadata": {},
   "outputs": [
    {
     "data": {
      "text/html": [
       "<div>\n",
       "<style scoped>\n",
       "    .dataframe tbody tr th:only-of-type {\n",
       "        vertical-align: middle;\n",
       "    }\n",
       "\n",
       "    .dataframe tbody tr th {\n",
       "        vertical-align: top;\n",
       "    }\n",
       "\n",
       "    .dataframe thead th {\n",
       "        text-align: right;\n",
       "    }\n",
       "</style>\n",
       "<table border=\"1\" class=\"dataframe\">\n",
       "  <thead>\n",
       "    <tr style=\"text-align: right;\">\n",
       "      <th></th>\n",
       "      <th>text</th>\n",
       "      <th>label</th>\n",
       "    </tr>\n",
       "  </thead>\n",
       "  <tbody>\n",
       "    <tr>\n",
       "      <th>0</th>\n",
       "      <td>@first_timee хоть я и школота, но поверь, у на...</td>\n",
       "      <td>1</td>\n",
       "    </tr>\n",
       "    <tr>\n",
       "      <th>1</th>\n",
       "      <td>Да, все-таки он немного похож на него. Но мой ...</td>\n",
       "      <td>1</td>\n",
       "    </tr>\n",
       "    <tr>\n",
       "      <th>2</th>\n",
       "      <td>RT @KatiaCheh: Ну ты идиотка) я испугалась за ...</td>\n",
       "      <td>1</td>\n",
       "    </tr>\n",
       "    <tr>\n",
       "      <th>3</th>\n",
       "      <td>RT @digger2912: \"Кто то в углу сидит и погибае...</td>\n",
       "      <td>1</td>\n",
       "    </tr>\n",
       "    <tr>\n",
       "      <th>4</th>\n",
       "      <td>@irina_dyshkant Вот что значит страшилка :D\\nН...</td>\n",
       "      <td>1</td>\n",
       "    </tr>\n",
       "  </tbody>\n",
       "</table>\n",
       "</div>"
      ],
      "text/plain": [
       "                                                text  label\n",
       "0  @first_timee хоть я и школота, но поверь, у на...      1\n",
       "1  Да, все-таки он немного похож на него. Но мой ...      1\n",
       "2  RT @KatiaCheh: Ну ты идиотка) я испугалась за ...      1\n",
       "3  RT @digger2912: \"Кто то в углу сидит и погибае...      1\n",
       "4  @irina_dyshkant Вот что значит страшилка :D\\nН...      1"
      ]
     },
     "execution_count": 11,
     "metadata": {},
     "output_type": "execute_result"
    }
   ],
   "source": [
    "all_tweets.head()"
   ]
  },
  {
   "cell_type": "code",
   "execution_count": 12,
   "id": "e77488a8",
   "metadata": {},
   "outputs": [],
   "source": [
    "all_tweets.loc[:,'text'] = all_tweets.text.apply(lambda x : str.lower(x))"
   ]
  },
  {
   "cell_type": "code",
   "execution_count": 13,
   "id": "4ce248b0",
   "metadata": {},
   "outputs": [],
   "source": [
    "import re\n",
    "all_tweets.loc[:,'text'] = all_tweets.text.apply(lambda x : \" \".join(re.findall('[\\w]+',x)))"
   ]
  },
  {
   "cell_type": "code",
   "execution_count": 14,
   "id": "72bc42db",
   "metadata": {},
   "outputs": [],
   "source": [
    "from stop_words import get_stop_words\n",
    "stop_words = get_stop_words('ru')\n",
    "\n",
    "def remove_stopWords(s):\n",
    "    s = ' '.join(word for word in s.split() if word not in stop_words)\n",
    "    return s\n",
    "\n",
    "all_tweets.loc[:,'text'] = all_tweets.text.apply(lambda x: remove_stopWords(x))"
   ]
  },
  {
   "cell_type": "code",
   "execution_count": 15,
   "id": "5a139db7",
   "metadata": {},
   "outputs": [],
   "source": [
    "#all_tweets.text = all_tweets.text.replace('\\d+', '')"
   ]
  },
  {
   "cell_type": "code",
   "execution_count": 16,
   "id": "6c978593",
   "metadata": {},
   "outputs": [
    {
     "data": {
      "text/plain": [
       "226834"
      ]
     },
     "execution_count": 16,
     "metadata": {},
     "output_type": "execute_result"
    }
   ],
   "source": [
    "len(all_tweets)"
   ]
  },
  {
   "cell_type": "code",
   "execution_count": 17,
   "id": "5ffb0357",
   "metadata": {},
   "outputs": [],
   "source": [
    "all_tweets = all_tweets.sample(frac = 1)[:100000]"
   ]
  },
  {
   "cell_type": "code",
   "execution_count": 18,
   "id": "3d5d2b64",
   "metadata": {},
   "outputs": [
    {
     "data": {
      "text/html": [
       "<div>\n",
       "<style scoped>\n",
       "    .dataframe tbody tr th:only-of-type {\n",
       "        vertical-align: middle;\n",
       "    }\n",
       "\n",
       "    .dataframe tbody tr th {\n",
       "        vertical-align: top;\n",
       "    }\n",
       "\n",
       "    .dataframe thead th {\n",
       "        text-align: right;\n",
       "    }\n",
       "</style>\n",
       "<table border=\"1\" class=\"dataframe\">\n",
       "  <thead>\n",
       "    <tr style=\"text-align: right;\">\n",
       "      <th></th>\n",
       "      <th>text</th>\n",
       "      <th>label</th>\n",
       "    </tr>\n",
       "  </thead>\n",
       "  <tbody>\n",
       "    <tr>\n",
       "      <th>55699</th>\n",
       "      <td>след подарят http t co 9sgbreh5m8</td>\n",
       "      <td>0</td>\n",
       "    </tr>\n",
       "    <tr>\n",
       "      <th>68682</th>\n",
       "      <td>fairy_raby zweisamkeit0620 представила слегла d</td>\n",
       "      <td>1</td>\n",
       "    </tr>\n",
       "    <tr>\n",
       "      <th>85408</th>\n",
       "      <td>rt cum_deo1 xorbat_oxoxo равно любишь 9 9</td>\n",
       "      <td>0</td>\n",
       "    </tr>\n",
       "    <tr>\n",
       "      <th>58980</th>\n",
       "      <td>alighierijade omg сказали добрая</td>\n",
       "      <td>1</td>\n",
       "    </tr>\n",
       "    <tr>\n",
       "      <th>66826</th>\n",
       "      <td>окном прям сказочка стать морозко хочу найти д...</td>\n",
       "      <td>1</td>\n",
       "    </tr>\n",
       "    <tr>\n",
       "      <th>...</th>\n",
       "      <td>...</td>\n",
       "      <td>...</td>\n",
       "    </tr>\n",
       "    <tr>\n",
       "      <th>8294</th>\n",
       "      <td>rt chemical_time джетсет делал илитка http t c...</td>\n",
       "      <td>1</td>\n",
       "    </tr>\n",
       "    <tr>\n",
       "      <th>22182</th>\n",
       "      <td>rt vika_instal_ скапиздец 999 99 9</td>\n",
       "      <td>0</td>\n",
       "    </tr>\n",
       "    <tr>\n",
       "      <th>48129</th>\n",
       "      <td>выиграли дело граждане ура здравый смысл возоб...</td>\n",
       "      <td>1</td>\n",
       "    </tr>\n",
       "    <tr>\n",
       "      <th>72304</th>\n",
       "      <td>aizadolmatova космического счастья твоей планете</td>\n",
       "      <td>1</td>\n",
       "    </tr>\n",
       "    <tr>\n",
       "      <th>70422</th>\n",
       "      <td>прям серьёзность аха http t co wdbmfqekcm</td>\n",
       "      <td>1</td>\n",
       "    </tr>\n",
       "  </tbody>\n",
       "</table>\n",
       "<p>100000 rows × 2 columns</p>\n",
       "</div>"
      ],
      "text/plain": [
       "                                                    text  label\n",
       "55699                  след подарят http t co 9sgbreh5m8      0\n",
       "68682    fairy_raby zweisamkeit0620 представила слегла d      1\n",
       "85408          rt cum_deo1 xorbat_oxoxo равно любишь 9 9      0\n",
       "58980                   alighierijade omg сказали добрая      1\n",
       "66826  окном прям сказочка стать морозко хочу найти д...      1\n",
       "...                                                  ...    ...\n",
       "8294   rt chemical_time джетсет делал илитка http t c...      1\n",
       "22182                 rt vika_instal_ скапиздец 999 99 9      0\n",
       "48129  выиграли дело граждане ура здравый смысл возоб...      1\n",
       "72304   aizadolmatova космического счастья твоей планете      1\n",
       "70422          прям серьёзность аха http t co wdbmfqekcm      1\n",
       "\n",
       "[100000 rows x 2 columns]"
      ]
     },
     "execution_count": 18,
     "metadata": {},
     "output_type": "execute_result"
    }
   ],
   "source": [
    "all_tweets"
   ]
  },
  {
   "cell_type": "code",
   "execution_count": 19,
   "id": "917a594b",
   "metadata": {},
   "outputs": [],
   "source": [
    "train_data, val_data = train_test_split(all_tweets, test_size=0.2)"
   ]
  },
  {
   "cell_type": "code",
   "execution_count": 20,
   "id": "deace53a",
   "metadata": {},
   "outputs": [
    {
     "data": {
      "text/plain": [
       "0.506175"
      ]
     },
     "execution_count": 20,
     "metadata": {},
     "output_type": "execute_result"
    }
   ],
   "source": [
    "train_data[train_data.label == 1].shape[0] /train_data.shape[0]"
   ]
  },
  {
   "cell_type": "code",
   "execution_count": 21,
   "id": "1b9dc755",
   "metadata": {},
   "outputs": [
    {
     "name": "stdout",
     "output_type": "stream",
     "text": [
      "всего уникальных слов: 170295\n"
     ]
    }
   ],
   "source": [
    "vocab = Counter()\n",
    "for word in all_tweets['text']:\n",
    "    vocab.update(word.split())\n",
    "print('всего уникальных слов:', len(vocab))"
   ]
  },
  {
   "cell_type": "code",
   "execution_count": 22,
   "id": "46d74a85",
   "metadata": {},
   "outputs": [
    {
     "name": "stdout",
     "output_type": "stream",
     "text": [
      "уникальных слов, втретившихся больше 5 раз: 15421\n"
     ]
    }
   ],
   "source": [
    "filtered_vocab = set()\n",
    "\n",
    "for word in vocab:\n",
    "    if vocab[word] > 5:\n",
    "        filtered_vocab.add(word)\n",
    "print('уникальных слов, втретившихся больше 5 раз:', len(filtered_vocab))"
   ]
  },
  {
   "cell_type": "code",
   "execution_count": 23,
   "id": "fcdf169c",
   "metadata": {},
   "outputs": [],
   "source": [
    "word2id = {'PAD':0}\n",
    "\n",
    "for word in filtered_vocab:\n",
    "    word2id[word] = len(word2id)"
   ]
  },
  {
   "cell_type": "code",
   "execution_count": 24,
   "id": "eba04407",
   "metadata": {},
   "outputs": [],
   "source": [
    "id2word = {i:word for word, i in word2id.items()}"
   ]
  },
  {
   "cell_type": "code",
   "execution_count": 25,
   "id": "5ab6990c",
   "metadata": {},
   "outputs": [
    {
     "data": {
      "text/plain": [
       "device(type='cpu')"
      ]
     },
     "execution_count": 25,
     "metadata": {},
     "output_type": "execute_result"
    }
   ],
   "source": [
    "DEVICE = torch.device('cuda') if torch.cuda.is_available() else torch.device('cpu')\n",
    "DEVICE"
   ]
  },
  {
   "cell_type": "code",
   "execution_count": 112,
   "id": "e74e3f4f",
   "metadata": {},
   "outputs": [],
   "source": [
    "class TweetsDataset(Dataset):\n",
    "\n",
    "    def __init__(self, dataset, word2id, DEVICE):\n",
    "        self.dataset = dataset['text'].values\n",
    "        self.word2id = word2id\n",
    "        self.length = dataset.shape[0]\n",
    "        self.target = dataset['label'].values\n",
    "        self.device = DEVICE\n",
    "\n",
    "    def __len__(self):\n",
    "        return self.length\n",
    "\n",
    "    def __getitem__(self, index): \n",
    "        words = list(self.dataset[index])\n",
    "        ids = torch.LongTensor([self.word2id[word] for word in words if word in self.word2id])\n",
    "        y = [self.target[index]]\n",
    "        return ids, y\n",
    "\n",
    "    def collate_fn(self, batch):\n",
    "        ids, y = list(zip(*batch))\n",
    "        padded_ids = pad_sequence(ids, batch_first=True).to(self.device)\n",
    "        y = torch.Tensor(y).to(self.device)\n",
    "        return padded_ids, y"
   ]
  },
  {
   "cell_type": "code",
   "execution_count": 113,
   "id": "70829885",
   "metadata": {},
   "outputs": [],
   "source": [
    "train_dataset = TweetsDataset(train_data, word2id, DEVICE)\n",
    "train_sampler = RandomSampler(train_dataset)\n",
    "train_iterator = DataLoader(train_dataset, collate_fn = train_dataset.collate_fn, sampler=train_sampler, batch_size=1024)"
   ]
  },
  {
   "cell_type": "code",
   "execution_count": 114,
   "id": "2917baff",
   "metadata": {},
   "outputs": [],
   "source": [
    "batch = next(iter(train_iterator))"
   ]
  },
  {
   "cell_type": "code",
   "execution_count": 115,
   "id": "7956fd62",
   "metadata": {},
   "outputs": [
    {
     "data": {
      "text/plain": [
       "torch.Size([1024, 105])"
      ]
     },
     "execution_count": 115,
     "metadata": {},
     "output_type": "execute_result"
    }
   ],
   "source": [
    "batch[0].shape"
   ]
  },
  {
   "cell_type": "code",
   "execution_count": 116,
   "id": "81979922",
   "metadata": {},
   "outputs": [],
   "source": [
    "val_dataset = TweetsDataset(val_data, word2id, DEVICE)\n",
    "val_sampler = SequentialSampler(val_dataset)\n",
    "val_iterator = DataLoader(val_dataset, collate_fn = val_dataset.collate_fn, sampler=val_sampler, batch_size=1024)"
   ]
  },
  {
   "cell_type": "code",
   "execution_count": 118,
   "id": "06062973",
   "metadata": {},
   "outputs": [
    {
     "data": {
      "text/plain": [
       "torch.Size([1024, 102])"
      ]
     },
     "execution_count": 118,
     "metadata": {},
     "output_type": "execute_result"
    }
   ],
   "source": [
    "test_batch = next(iter(val_iterator))\n",
    "test_batch[0].shape"
   ]
  },
  {
   "cell_type": "code",
   "execution_count": 119,
   "id": "2a403768",
   "metadata": {},
   "outputs": [],
   "source": [
    "class CNN(nn.Module):\n",
    "    \n",
    "    def __init__(self, vocab_size, embedding_dim):\n",
    "        super().__init__()\n",
    "        self.embedding = nn.Embedding(vocab_size, embedding_dim)\n",
    "        self.bigrams = nn.Conv1d(in_channels=embedding_dim, out_channels=100, kernel_size=2, padding='same')\n",
    "        self.trigrams = nn.Conv1d(in_channels=embedding_dim, out_channels=80, kernel_size=3, padding='same')\n",
    "        self.pooling = nn.MaxPool1d(kernel_size=2, stride=2)\n",
    "        self.relu = nn.ReLU()\n",
    "        self.hidden = nn.Linear(in_features=180, out_features=1)\n",
    "        self.dropout = nn.Dropout(p=0.5)\n",
    "        self.out = nn.Sigmoid()\n",
    "\n",
    "    def forward(self, word):\n",
    "        #batch_size x seq_len\n",
    "        embedded = self.embedding(word)\n",
    "        #batch_size x seq_len x embedding_dim\n",
    "        embedded = embedded.transpose(1,2)\n",
    "        #batch_size x embedding_dim x seq_len\n",
    "        feature_map_bigrams = self.dropout(self.pooling(self.relu(self.bigrams(embedded))))\n",
    "        #batch_size x filter_count2 x seq_len* \n",
    "        feature_map_trigrams = self.dropout(self.pooling(self.relu(self.trigrams(embedded))))\n",
    "        #batch_size x filter_count3 x seq_len*\n",
    "\n",
    "        pooling1 = feature_map_bigrams.max(2)[0] \n",
    "        # batch_size x filter_count2\n",
    "        pooling2 = feature_map_trigrams.max(2)[0]\n",
    "        # batch_size x filter_count3\n",
    "        concat = torch.cat((pooling1, pooling2), 1)\n",
    "        # batch _size x (filter_count2 + filter_count3)\n",
    "        logits = self.hidden(concat) \n",
    "        logits = self.out(logits)      \n",
    "        return logits"
   ]
  },
  {
   "cell_type": "code",
   "execution_count": 120,
   "id": "233bede4",
   "metadata": {},
   "outputs": [
    {
     "name": "stdout",
     "output_type": "stream",
     "text": [
      "tensor([[ 3680,  5559,  2523,  ...,     0,     0,     0],\n",
      "        [  510, 10255,   364,  ...,     0,     0,     0],\n",
      "        [10886, 10137,  4620,  ...,     0,     0,     0],\n",
      "        ...,\n",
      "        [ 7033,  9265,  9265,  ...,     0,     0,     0],\n",
      "        [ 3680,  4839,   159,  ...,     0,     0,     0],\n",
      "        [ 8037,  1906, 13117,  ...,     0,     0,     0]])\n"
     ]
    }
   ],
   "source": [
    "batch, y = next(iter(train_iterator))\n",
    "batch, y = batch.to(device='cpu'), y.to(device='cpu')\n",
    "print(batch)"
   ]
  },
  {
   "cell_type": "code",
   "execution_count": 121,
   "id": "7e8d40b0",
   "metadata": {},
   "outputs": [
    {
     "name": "stdout",
     "output_type": "stream",
     "text": [
      "tensor([[0.3763],\n",
      "        [0.2455],\n",
      "        [0.2900],\n",
      "        ...,\n",
      "        [0.3647],\n",
      "        [0.2776],\n",
      "        [0.2589]], grad_fn=<SigmoidBackward>)\n"
     ]
    }
   ],
   "source": [
    "model = CNN(len(id2word), 8)\n",
    "output = model(batch)\n",
    "print(output)"
   ]
  },
  {
   "cell_type": "code",
   "execution_count": 122,
   "id": "fcf40b6d",
   "metadata": {},
   "outputs": [
    {
     "data": {
      "text/plain": [
       "tensor(0.8061, grad_fn=<BinaryCrossEntropyBackward>)"
      ]
     },
     "execution_count": 122,
     "metadata": {},
     "output_type": "execute_result"
    }
   ],
   "source": [
    "loss = nn.BCELoss()\n",
    "loss(output, y)"
   ]
  },
  {
   "cell_type": "code",
   "execution_count": 123,
   "id": "8691b859",
   "metadata": {},
   "outputs": [
    {
     "data": {
      "text/plain": [
       "tensor(0.0257)"
      ]
     },
     "execution_count": 123,
     "metadata": {},
     "output_type": "execute_result"
    }
   ],
   "source": [
    "f1(output, y.long())"
   ]
  },
  {
   "cell_type": "code",
   "execution_count": 124,
   "id": "bd52a11d",
   "metadata": {},
   "outputs": [],
   "source": [
    "def train(model, iterator, optimizer, criterion):\n",
    "    epoch_loss = 0 # для подсчета среднего лосса на всех батчах\n",
    "\n",
    "    model.train()  # ставим модель в обучение, явно указываем, что сейчас надо будет хранить градиенты у всех весов\n",
    "\n",
    "    for i, (texts, ys) in enumerate(iterator): #итерируемся по батчам\n",
    "        optimizer.zero_grad()  #обнуляем градиенты\n",
    "        preds = model(texts)  #прогоняем данные через модель\n",
    "        loss = criterion(preds, ys) #считаем значение функции потерь  \n",
    "        loss.backward() #считаем градиенты  \n",
    "        optimizer.step() #обновляем веса \n",
    "        epoch_loss += loss.item() #сохраняем значение функции потерь\n",
    "        if not (i + 1) % int(len(iterator)/5):\n",
    "            print(f'Train loss: {epoch_loss/i}')      \n",
    "    return  epoch_loss / len(iterator) # возвращаем среднее значение лосса по всей выборке"
   ]
  },
  {
   "cell_type": "code",
   "execution_count": 125,
   "id": "c7519b0b",
   "metadata": {},
   "outputs": [],
   "source": [
    "def evaluate(model, iterator, criterion):\n",
    "    epoch_loss = 0\n",
    "    epoch_metric = 0\n",
    "    model.eval() \n",
    "    with torch.no_grad():\n",
    "        for i, (texts, ys) in enumerate(iterator):   \n",
    "            preds = model(texts)  # делаем предсказания на тесте\n",
    "            loss = criterion(preds, ys)   # считаем значения функции ошибки для статистики  \n",
    "            epoch_loss += loss.item()\n",
    "            batch_metric = f1(preds.round().long(), ys.long(), ignore_index=0)\n",
    "            epoch_metric += batch_metric\n",
    "\n",
    "            if not (i + 1) % int(len(iterator)/5):\n",
    "                print(f'Val loss: {epoch_loss/i}, Val f1: {epoch_metric/i}')\n",
    "        \n",
    "    return epoch_metric / len(iterator), epoch_loss / len(iterator) # возвращаем среднее значение по всей выборке"
   ]
  },
  {
   "cell_type": "code",
   "execution_count": 126,
   "id": "6347284a",
   "metadata": {},
   "outputs": [],
   "source": [
    "model = CNN(len(word2id), 8)\n",
    "optimizer = optim.Adam(model.parameters(), lr=0.0005)\n",
    "criterion = nn.BCELoss()  \n",
    "\n",
    "# веса модели и значения лосса храним там же, где и все остальные тензоры\n",
    "model = model.to(DEVICE)\n",
    "criterion = criterion.to(DEVICE)"
   ]
  },
  {
   "cell_type": "code",
   "execution_count": 127,
   "id": "1a7f6765",
   "metadata": {},
   "outputs": [
    {
     "name": "stdout",
     "output_type": "stream",
     "text": [
      "\n",
      "starting Epoch 0\n",
      "Training...\n",
      "Train loss: 0.823985116822379\n",
      "Train loss: 0.7649247790205067\n",
      "Train loss: 0.7417601983655583\n",
      "Train loss: 0.7288322761907415\n",
      "Train loss: 0.719584584236145\n",
      "\n",
      "Evaluating on train...\n",
      "Val loss: 0.725582982812609, Val f1: 0.6921300292015076\n",
      "Val loss: 0.7001345178176617, Val f1: 0.6679070591926575\n",
      "Val loss: 0.6927704445340417, Val f1: 0.6589944362640381\n",
      "Val loss: 0.6892172108262272, Val f1: 0.6551726460456848\n",
      "Val loss: 0.6865773402355813, Val f1: 0.6543230414390564\n",
      "\n",
      "Evaluating on test...\n",
      "Val loss: 0.9015787442525228, Val f1: 0.8650661110877991\n",
      "Val loss: 0.7763024057660785, Val f1: 0.729090690612793\n",
      "Val loss: 0.7404013817960565, Val f1: 0.699442982673645\n",
      "Val loss: 0.7234700401624043, Val f1: 0.6851900219917297\n",
      "Val loss: 0.7136964201927185, Val f1: 0.6786626577377319\n",
      "\n",
      "starting Epoch 1\n",
      "Training...\n",
      "Train loss: 0.727924325636455\n",
      "Train loss: 0.6988683425146958\n",
      "Train loss: 0.687739066102288\n",
      "Train loss: 0.682421564045599\n",
      "Train loss: 0.6785015020821545\n",
      "\n",
      "Evaluating on train...\n",
      "Val loss: 0.7157698231084006, Val f1: 0.7249168157577515\n",
      "Val loss: 0.6904636950328432, Val f1: 0.7035982012748718\n",
      "Val loss: 0.6826011470773004, Val f1: 0.6953654289245605\n",
      "Val loss: 0.6784508905168307, Val f1: 0.6924351453781128\n",
      "Val loss: 0.6763880349494316, Val f1: 0.68935626745224\n",
      "\n",
      "Evaluating on test...\n",
      "Val loss: 0.889387845993042, Val f1: 0.9050991535186768\n",
      "Val loss: 0.7658493859427316, Val f1: 0.7699862718582153\n",
      "Val loss: 0.7298193086277355, Val f1: 0.7403095364570618\n",
      "Val loss: 0.7129896680514017, Val f1: 0.7251380085945129\n",
      "Val loss: 0.7036169139962447, Val f1: 0.7160733938217163\n",
      "\n",
      "starting Epoch 2\n",
      "Training...\n",
      "Train loss: 0.7076776283127921\n",
      "Train loss: 0.6807533831431948\n",
      "Train loss: 0.6729022819887508\n",
      "Train loss: 0.6678978922003407\n",
      "Train loss: 0.6645906889760816\n",
      "\n",
      "Evaluating on train...\n",
      "Val loss: 0.705062917300633, Val f1: 0.7313368916511536\n",
      "Val loss: 0.6802252181645098, Val f1: 0.7083521485328674\n",
      "Val loss: 0.6724704883315347, Val f1: 0.7015130519866943\n",
      "Val loss: 0.6689847485493805, Val f1: 0.6969006657600403\n",
      "Val loss: 0.6670005869221043, Val f1: 0.6938580870628357\n",
      "\n",
      "Evaluating on test...\n",
      "Val loss: 0.8776465455691019, Val f1: 0.9119887948036194\n",
      "Val loss: 0.7552285279546466, Val f1: 0.7752110362052917\n",
      "Val loss: 0.7200369130481373, Val f1: 0.742687463760376\n",
      "Val loss: 0.7034722407658894, Val f1: 0.7277963161468506\n",
      "Val loss: 0.694421931316978, Val f1: 0.7183955311775208\n",
      "\n",
      "starting Epoch 3\n",
      "Training...\n",
      "Train loss: 0.6907009056636265\n",
      "Train loss: 0.666754702041889\n",
      "Train loss: 0.658750677650625\n",
      "Train loss: 0.6556480001595061\n",
      "Train loss: 0.6534896492958069\n",
      "\n",
      "Evaluating on train...\n",
      "Val loss: 0.7031088513987405, Val f1: 0.7423307299613953\n",
      "Val loss: 0.6796079195778946, Val f1: 0.7144792079925537\n",
      "Val loss: 0.6710544282739813, Val f1: 0.7093062996864319\n",
      "Val loss: 0.6675011707564532, Val f1: 0.7050637602806091\n",
      "Val loss: 0.6647100996326756, Val f1: 0.7036063075065613\n",
      "\n",
      "Evaluating on test...\n",
      "Val loss: 0.874943474928538, Val f1: 0.9269986152648926\n",
      "Val loss: 0.7540237392698016, Val f1: 0.7852362394332886\n",
      "Val loss: 0.7180435657501221, Val f1: 0.7557702660560608\n",
      "Val loss: 0.7016850670178731, Val f1: 0.7389198541641235\n",
      "Val loss: 0.692762974061464, Val f1: 0.729496419429779\n",
      "\n",
      "starting Epoch 4\n",
      "Training...\n",
      "Train loss: 0.6836042106151581\n",
      "Train loss: 0.6613006468476921\n",
      "Train loss: 0.6536416966806758\n",
      "Train loss: 0.6475622118529627\n",
      "Train loss: 0.6445141217193088\n",
      "\n",
      "Evaluating on train...\n",
      "Val loss: 0.6863541645663125, Val f1: 0.735653281211853\n",
      "Val loss: 0.6647040515110411, Val f1: 0.7075566649436951\n",
      "Val loss: 0.6574959267269481, Val f1: 0.6988528370857239\n",
      "Val loss: 0.6532252814810154, Val f1: 0.6954294443130493\n",
      "Val loss: 0.6507683581597096, Val f1: 0.6942022442817688\n",
      "\n",
      "Evaluating on test...\n",
      "Val loss: 0.8576814333597819, Val f1: 0.9147782325744629\n",
      "Val loss: 0.7380366410527911, Val f1: 0.7755004167556763\n",
      "Val loss: 0.7040236754850908, Val f1: 0.7410066723823547\n",
      "Val loss: 0.6878521084785462, Val f1: 0.7263594269752502\n",
      "Val loss: 0.6791137582377383, Val f1: 0.7171643972396851\n",
      "\n",
      "starting Epoch 5\n",
      "Training...\n",
      "Train loss: 0.6827010086604527\n",
      "Train loss: 0.6572178478898674\n",
      "Train loss: 0.649494393305345\n",
      "Train loss: 0.6433038640830476\n",
      "Train loss: 0.6402758432401193\n",
      "\n",
      "Evaluating on train...\n",
      "Val loss: 0.691835595028741, Val f1: 0.752896785736084\n",
      "Val loss: 0.6675990511631144, Val f1: 0.7235604524612427\n",
      "Val loss: 0.6597347259521484, Val f1: 0.7150183916091919\n",
      "Val loss: 0.656059854111429, Val f1: 0.7103210091590881\n",
      "Val loss: 0.6538176391575787, Val f1: 0.7075456380844116\n",
      "\n",
      "Evaluating on test...\n",
      "Val loss: 0.8614710768063863, Val f1: 0.9298267364501953\n",
      "Val loss: 0.742869326046535, Val f1: 0.7880469560623169\n",
      "Val loss: 0.7075038877400485, Val f1: 0.7580317854881287\n",
      "Val loss: 0.691358995437622, Val f1: 0.7418469190597534\n",
      "Val loss: 0.6825933079970511, Val f1: 0.732104480266571\n",
      "\n",
      "starting Epoch 6\n",
      "Training...\n",
      "Train loss: 0.6758554407528469\n",
      "Train loss: 0.649507395152388\n",
      "Train loss: 0.6428145955909382\n",
      "Train loss: 0.6381907584303517\n",
      "Train loss: 0.6341930660041603\n",
      "\n",
      "Evaluating on train...\n",
      "Val loss: 0.68083998135158, Val f1: 0.7498281598091125\n",
      "Val loss: 0.6572795921358568, Val f1: 0.724916934967041\n",
      "Val loss: 0.6504196118224751, Val f1: 0.7150712609291077\n",
      "Val loss: 0.6468000775676662, Val f1: 0.7112275958061218\n",
      "Val loss: 0.6454373630317481, Val f1: 0.7077734470367432\n",
      "\n",
      "Evaluating on test...\n",
      "Val loss: 0.8514896432558695, Val f1: 0.9237889647483826\n",
      "Val loss: 0.7338250194277082, Val f1: 0.7853189706802368\n",
      "Val loss: 0.6994385881857439, Val f1: 0.7518849968910217\n",
      "Val loss: 0.6833963513374328, Val f1: 0.7367040514945984\n",
      "Val loss: 0.6746998366556669, Val f1: 0.7280967831611633\n",
      "\n",
      "starting Epoch 7\n",
      "Training...\n",
      "Train loss: 0.6658476207937513\n",
      "Train loss: 0.644339997192909\n",
      "Train loss: 0.6363336782563817\n",
      "Train loss: 0.6321739948402016\n",
      "Train loss: 0.6299935893432514\n",
      "\n",
      "Evaluating on train...\n",
      "Val loss: 0.680315226316452, Val f1: 0.7535431981086731\n",
      "Val loss: 0.6585602534228358, Val f1: 0.7272626161575317\n",
      "Val loss: 0.6512250791896473, Val f1: 0.7193549871444702\n",
      "Val loss: 0.6474519412396318, Val f1: 0.7146294116973877\n",
      "Val loss: 0.6457735002040863, Val f1: 0.7112798690795898\n",
      "\n",
      "Evaluating on test...\n",
      "Val loss: 0.8518943587938944, Val f1: 0.9329678416252136\n",
      "Val loss: 0.7347034982272557, Val f1: 0.7899340391159058\n",
      "Val loss: 0.7000025673346086, Val f1: 0.7583604454994202\n",
      "Val loss: 0.6839064836502076, Val f1: 0.7425037026405334\n",
      "Val loss: 0.6751684264132851, Val f1: 0.7328440546989441\n",
      "\n",
      "starting Epoch 8\n",
      "Training...\n",
      "Train loss: 0.6624995214598519\n",
      "Train loss: 0.6384518639794712\n",
      "Train loss: 0.6321704265746203\n",
      "Train loss: 0.6289986776093305\n",
      "Train loss: 0.6272457491707157\n",
      "\n",
      "Evaluating on train...\n",
      "Val loss: 0.6752890348434448, Val f1: 0.7500206828117371\n",
      "Val loss: 0.651932247753801, Val f1: 0.7199337482452393\n",
      "Val loss: 0.6438338472084566, Val f1: 0.712941586971283\n",
      "Val loss: 0.6397121558755131, Val f1: 0.7105234265327454\n",
      "Val loss: 0.6377517162142573, Val f1: 0.7067253589630127\n",
      "\n",
      "Evaluating on test...\n",
      "Val loss: 0.8423538208007812, Val f1: 0.9331353306770325\n",
      "Val loss: 0.7258430293628148, Val f1: 0.7875040769577026\n",
      "Val loss: 0.6922508369792592, Val f1: 0.7543179988861084\n",
      "Val loss: 0.676212735970815, Val f1: 0.7381501793861389\n",
      "Val loss: 0.6674952507019043, Val f1: 0.7279711961746216\n",
      "\n",
      "starting Epoch 9\n",
      "Training...\n",
      "Train loss: 0.6610823614256722\n",
      "Train loss: 0.6406245724908237\n",
      "Train loss: 0.6322510635310953\n",
      "Train loss: 0.6279152783296876\n",
      "Train loss: 0.6249897351136079\n",
      "\n",
      "Evaluating on train...\n",
      "Val loss: 0.6684785911015102, Val f1: 0.7504090070724487\n",
      "Val loss: 0.6485096647821623, Val f1: 0.721015453338623\n",
      "Val loss: 0.640424829992381, Val f1: 0.7146573066711426\n",
      "Val loss: 0.6369064318931709, Val f1: 0.7108901739120483\n",
      "Val loss: 0.6349249304951848, Val f1: 0.7080599665641785\n",
      "\n",
      "Evaluating on test...\n",
      "Val loss: 0.8390567104021708, Val f1: 0.9348630309104919\n",
      "Val loss: 0.7230542983327594, Val f1: 0.7876136898994446\n",
      "Val loss: 0.6897075772285461, Val f1: 0.754849374294281\n",
      "Val loss: 0.6736375848452251, Val f1: 0.7384170889854431\n",
      "Val loss: 0.6648965885764674, Val f1: 0.7283045053482056\n"
     ]
    }
   ],
   "source": [
    "losses = []\n",
    "losses_eval = []\n",
    "f1s = []\n",
    "f1s_eval = []\n",
    "\n",
    "for i in range(10):\n",
    "    print(f'\\nstarting Epoch {i}')\n",
    "    print('Training...')\n",
    "    epoch_loss = train(model, train_iterator, optimizer, criterion)\n",
    "    losses.append(epoch_loss)\n",
    "    print('\\nEvaluating on train...')\n",
    "    f1_on_train,_ = evaluate(model, train_iterator, criterion)\n",
    "    f1s.append(f1_on_train)\n",
    "    print('\\nEvaluating on test...')\n",
    "    f1_on_test, epoch_loss_on_test = evaluate(model, val_iterator, criterion)\n",
    "    losses_eval.append(epoch_loss_on_test)\n",
    "    f1s_eval.append(f1_on_test)"
   ]
  },
  {
   "cell_type": "code",
   "execution_count": 128,
   "id": "d14e2844",
   "metadata": {},
   "outputs": [
    {
     "data": {
      "image/png": "[encoded data removed]",
      "text/plain": [
       "<Figure size 432x288 with 1 Axes>"
      ]
     },
     "metadata": {
      "needs_background": "light"
     },
     "output_type": "display_data"
    }
   ],
   "source": [
    "import matplotlib.pyplot as plt\n",
    "plt.plot(losses)\n",
    "plt.plot(losses_eval)\n",
    "plt.title('BCE loss value')\n",
    "plt.ylabel('BCE loss')\n",
    "plt.xlabel('epoch')\n",
    "plt.legend(['train', 'val'], loc='upper right')\n",
    "plt.show()"
   ]
  },
  {
   "cell_type": "code",
   "execution_count": 129,
   "id": "d00fd998",
   "metadata": {},
   "outputs": [
    {
     "data": {
      "image/png": "[encoded data removed]",
      "text/plain": [
       "<Figure size 432x288 with 1 Axes>"
      ]
     },
     "metadata": {
      "needs_background": "light"
     },
     "output_type": "display_data"
    }
   ],
   "source": [
    "import matplotlib.pyplot as plt\n",
    "plt.plot(f1s)\n",
    "plt.plot(f1s_eval)\n",
    "plt.title('f1 value')\n",
    "plt.ylabel('f1 value')\n",
    "plt.xlabel('epoch')\n",
    "plt.legend(['train', 'val'], loc='upper right')\n",
    "plt.show()"
   ]
  },
  {
   "cell_type": "code",
   "execution_count": 130,
   "id": "707557e7",
   "metadata": {},
   "outputs": [],
   "source": [
    "def predict(model, iterator):\n",
    "    model.eval()\n",
    "    fp = []\n",
    "    fn = []\n",
    "    tp = [] \n",
    "    tn = []\n",
    "    with torch.no_grad():\n",
    "        for i, (texts, ys) in enumerate(iterator):   \n",
    "            preds = model(texts)  # делаем предсказания на тесте \n",
    "            for pred, gold, text in zip(preds, ys, texts):\n",
    "                text = ''.join([id2word[int(word)] for word in text if word !=0])\n",
    "                if round(pred.item()) > gold:\n",
    "                    fp.append(text)\n",
    "                elif round(pred.item()) < gold:\n",
    "                    fn.append(text)\n",
    "                elif round(pred.item()) == gold == 1:\n",
    "                    tp.append(text)\n",
    "                elif round(pred.item()) == gold == 0:\n",
    "                    tn.append(text)\n",
    "    return fp, fn, tp, tn"
   ]
  },
  {
   "cell_type": "code",
   "execution_count": 131,
   "id": "6f03bcc8",
   "metadata": {},
   "outputs": [],
   "source": [
    "fp, fn, tp, tn = predict(model, val_iterator)"
   ]
  },
  {
   "cell_type": "code",
   "execution_count": 132,
   "id": "bb5a334d",
   "metadata": {},
   "outputs": [],
   "source": [
    "accuracy = (len(tp)+len(tn))/(len(tp)+len(fp)+len(fn)+len(tn))"
   ]
  },
  {
   "cell_type": "code",
   "execution_count": 133,
   "id": "f6b2159c",
   "metadata": {},
   "outputs": [
    {
     "data": {
      "text/plain": [
       "0.6396"
      ]
     },
     "execution_count": 133,
     "metadata": {},
     "output_type": "execute_result"
    }
   ],
   "source": [
    "accuracy"
   ]
  },
  {
   "cell_type": "code",
   "execution_count": 134,
   "id": "cd7467e8",
   "metadata": {},
   "outputs": [],
   "source": [
    "precision = len(tp)/(len(tp)+len(fp))"
   ]
  },
  {
   "cell_type": "code",
   "execution_count": 135,
   "id": "cdaaba91",
   "metadata": {},
   "outputs": [
    {
     "data": {
      "text/plain": [
       "0.6097028958254983"
      ]
     },
     "execution_count": 135,
     "metadata": {},
     "output_type": "execute_result"
    }
   ],
   "source": [
    "precision"
   ]
  },
  {
   "cell_type": "code",
   "execution_count": 136,
   "id": "f0634e1e",
   "metadata": {},
   "outputs": [],
   "source": [
    "recall = len(tp)/(len(tp)+len(fn))"
   ]
  },
  {
   "cell_type": "code",
   "execution_count": 137,
   "id": "eca5413f",
   "metadata": {},
   "outputs": [
    {
     "data": {
      "text/plain": [
       "0.8005925925925926"
      ]
     },
     "execution_count": 137,
     "metadata": {},
     "output_type": "execute_result"
    }
   ],
   "source": [
    "recall"
   ]
  },
  {
   "cell_type": "markdown",
   "id": "032d46e0",
   "metadata": {},
   "source": [
    "# Вторая модель"
   ]
  },
  {
   "cell_type": "code",
   "execution_count": 94,
   "id": "17405cb1",
   "metadata": {},
   "outputs": [
    {
     "name": "stdout",
     "output_type": "stream",
     "text": [
      "всего уникальных символов: 170\n"
     ]
    }
   ],
   "source": [
    "symbol_vocab = Counter()\n",
    "for symbol in all_tweets['text']:\n",
    "    symbol_vocab.update(list(symbol))\n",
    "print('всего уникальных символов:', len(symbol_vocab))"
   ]
  },
  {
   "cell_type": "code",
   "execution_count": 95,
   "id": "5c574bf4",
   "metadata": {},
   "outputs": [
    {
     "name": "stdout",
     "output_type": "stream",
     "text": [
      "уникальных символов, втретившихся больше 5 раз: 86\n"
     ]
    }
   ],
   "source": [
    "filtered_vocab = set()\n",
    "\n",
    "for symbol in symbol_vocab:\n",
    "    if symbol_vocab[symbol] > 5:\n",
    "        filtered_vocab.add(symbol)\n",
    "print('уникальных символов, втретившихся больше 5 раз:', len(filtered_vocab))"
   ]
  },
  {
   "cell_type": "code",
   "execution_count": 96,
   "id": "2e73de81",
   "metadata": {},
   "outputs": [],
   "source": [
    "symbol2id = {'PAD':0}\n",
    "\n",
    "for symbol in filtered_vocab:\n",
    "    symbol2id[symbol] = len(symbol2id)"
   ]
  },
  {
   "cell_type": "code",
   "execution_count": 97,
   "id": "29e54458",
   "metadata": {},
   "outputs": [],
   "source": [
    "id2symbol = {i:symbol for symbol, i in symbol2id.items()}"
   ]
  },
  {
   "cell_type": "code",
   "execution_count": 98,
   "id": "cc08d2f6",
   "metadata": {},
   "outputs": [],
   "source": [
    "class TweetsSymbolsDataset(Dataset):\n",
    "\n",
    "    def __init__(self, dataset, word2id, symbol2id, DEVICE):\n",
    "        self.dataset = dataset['text'].values\n",
    "        self.word2id = word2id\n",
    "        self.symbol2id = symbol2id\n",
    "        self.length = dataset.shape[0]\n",
    "        self.target = dataset['label'].values\n",
    "        self.device = DEVICE\n",
    "\n",
    "    def __len__(self):\n",
    "        return self.length\n",
    "\n",
    "    def __getitem__(self, index): \n",
    "        words = list(self.dataset[index])\n",
    "        symbols = list(self.dataset[index])\n",
    "        ids_words = torch.LongTensor([self.word2id[word] for word in words if word in self.word2id])\n",
    "        ids_symbols = torch.LongTensor([self.symbol2id[symbol] for symbol in symbols if symbol in self.symbol2id])\n",
    "        y = [self.target[index]]\n",
    "        return ids_words, ids_symbols, y\n",
    "\n",
    "    def collate_fn(self, batch):\n",
    "        ids_words, ids_symbols, y = list(zip(*batch))\n",
    "        padded_ids_words = pad_sequence(ids_words, batch_first=True).to(self.device)\n",
    "        padded_ids_symbols = pad_sequence(ids_symbols, batch_first=True).to(self.device)\n",
    "        y = torch.Tensor(y).to(self.device)\n",
    "        return padded_ids_words, padded_ids_symbols, y"
   ]
  },
  {
   "cell_type": "code",
   "execution_count": 99,
   "id": "441dbdb7",
   "metadata": {},
   "outputs": [],
   "source": [
    "train_dataset = TweetsSymbolsDataset(train_data, word2id, symbol2id, DEVICE)\n",
    "train_sampler = RandomSampler(train_dataset)\n",
    "train_iterator = DataLoader(train_dataset, collate_fn = train_dataset.collate_fn, sampler=train_sampler, batch_size=1024)"
   ]
  },
  {
   "cell_type": "code",
   "execution_count": 100,
   "id": "ce26b861",
   "metadata": {},
   "outputs": [],
   "source": [
    "batch = next(iter(train_iterator))"
   ]
  },
  {
   "cell_type": "code",
   "execution_count": 101,
   "id": "a98c3221",
   "metadata": {},
   "outputs": [
    {
     "data": {
      "text/plain": [
       "torch.Size([1024, 90])"
      ]
     },
     "execution_count": 101,
     "metadata": {},
     "output_type": "execute_result"
    }
   ],
   "source": [
    "batch[0].shape"
   ]
  },
  {
   "cell_type": "code",
   "execution_count": 103,
   "id": "6a13df6b",
   "metadata": {},
   "outputs": [],
   "source": [
    "val_dataset = TweetsSymbolsDataset(val_data, word2id, symbol2id, DEVICE)\n",
    "val_sampler = SequentialSampler(val_dataset)\n",
    "val_iterator = DataLoader(val_dataset, collate_fn = val_dataset.collate_fn, sampler=val_sampler, batch_size=1024)"
   ]
  },
  {
   "cell_type": "code",
   "execution_count": 104,
   "id": "b810a307",
   "metadata": {},
   "outputs": [
    {
     "data": {
      "text/plain": [
       "torch.Size([1024, 102])"
      ]
     },
     "execution_count": 104,
     "metadata": {},
     "output_type": "execute_result"
    }
   ],
   "source": [
    "test_batch = next(iter(val_iterator))\n",
    "test_batch[0].shape"
   ]
  },
  {
   "cell_type": "code",
   "execution_count": 105,
   "id": "b2be8bca",
   "metadata": {},
   "outputs": [],
   "source": [
    "class CNNS(nn.Module):\n",
    "    \n",
    "    def __init__(self, vocab_size_words, vocab_size_symbols, embedding_dim_words, embedding_dim_symbols):\n",
    "        super().__init__()\n",
    "        self.embedding_words = nn.Embedding(vocab_size_words, embedding_dim_words)\n",
    "        self.embedding_symbols = nn.Embedding(vocab_size_symbols, embedding_dim_symbols)\n",
    "        self.bigrams_symbols = nn.Conv1d(in_channels=embedding_dim_symbols, out_channels=100, kernel_size=2, padding='same')\n",
    "        self.trigrams_symbols = nn.Conv1d(in_channels=embedding_dim_symbols, out_channels=80, kernel_size=3, padding='same')\n",
    "        self.pooling = nn.MaxPool1d(kernel_size=2, stride=2)\n",
    "        self.relu = nn.ReLU()\n",
    "        self.hidden = nn.Linear(in_features=181, out_features=1)\n",
    "        self.hidden2 = nn.Linear(in_features=embedding_dim_words, out_features=1)\n",
    "        self.dropout = nn.Dropout(p=0.5)\n",
    "        self.out = nn.Sigmoid()\n",
    "\n",
    "    def forward(self, word, symbol):\n",
    "        \n",
    "        embedded_words = self.embedding_words(word)\n",
    "        embedded_symbols = self.embedding_symbols(symbol)\n",
    "        \n",
    "        embedded_words = torch.mean(embedded_words, dim=1)\n",
    "        embedded_symbols = embedded_symbols.transpose(1,2)\n",
    "        \n",
    "        X = self.hidden2(embedded_words)\n",
    "\n",
    "        feature_map_bigrams = self.dropout(self.pooling(self.relu(self.bigrams_symbols(embedded_symbols))))\n",
    "\n",
    "        feature_map_trigrams = self.dropout(self.pooling(self.relu(self.trigrams_symbols(embedded_symbols))))\n",
    "\n",
    "\n",
    "        pooling1 = feature_map_bigrams.max(2)[0] \n",
    "\n",
    "        pooling2 = feature_map_trigrams.max(2)[0]\n",
    "\n",
    "        concat = torch.cat((pooling1, pooling2, X), 1)\n",
    "\n",
    "        logits = self.hidden(concat) \n",
    "        logits = self.out(logits)      \n",
    "        return logits"
   ]
  },
  {
   "cell_type": "code",
   "execution_count": 106,
   "id": "787a0193",
   "metadata": {},
   "outputs": [],
   "source": [
    "def train(model, iterator, optimizer, criterion):\n",
    "    epoch_loss = 0 # для подсчета среднего лосса на всех батчах\n",
    "\n",
    "    model.train()  # ставим модель в обучение, явно указываем, что сейчас надо будет хранить градиенты у всех весов\n",
    "\n",
    "    for i, (words, symbols, ys) in enumerate(iterator): #итерируемся по батчам\n",
    "        optimizer.zero_grad()  #обнуляем градиенты\n",
    "        preds = model(words, symbols)   #прогоняем данные через модель\n",
    "        loss = criterion(preds, ys) #считаем значение функции потерь  \n",
    "        loss.backward() #считаем градиенты  \n",
    "        optimizer.step() #обновляем веса \n",
    "        epoch_loss += loss.item() #сохраняем значение функции потерь\n",
    "        if not (i + 1) % int(len(iterator)/5):\n",
    "            print(f'Train loss: {epoch_loss/i}')      \n",
    "    return  epoch_loss / len(iterator) # возвращаем среднее значение лосса по всей выборке"
   ]
  },
  {
   "cell_type": "code",
   "execution_count": 107,
   "id": "93c4e493",
   "metadata": {},
   "outputs": [],
   "source": [
    "def evaluate(model, iterator, criterion):\n",
    "    epoch_loss = 0\n",
    "    epoch_metric = 0\n",
    "    model.eval() \n",
    "    with torch.no_grad():\n",
    "        for i, (words, symbols, ys) in enumerate(iterator):   \n",
    "            preds = model(words, symbols)   # делаем предсказания на тесте\n",
    "            loss = criterion(preds, ys)   # считаем значения функции ошибки для статистики  \n",
    "            epoch_loss += loss.item()\n",
    "            batch_metric = f1(preds.round().long(), ys.long(), ignore_index=0)\n",
    "            epoch_metric += batch_metric\n",
    "\n",
    "            if not (i + 1) % int(len(iterator)/5):\n",
    "                print(f'Val loss: {epoch_loss/i}, Val f1: {epoch_metric/i}')\n",
    "        \n",
    "    return epoch_metric / len(iterator), epoch_loss / len(iterator) # возвращаем среднее значение по всей выборке"
   ]
  },
  {
   "cell_type": "code",
   "execution_count": 108,
   "id": "08134147",
   "metadata": {},
   "outputs": [],
   "source": [
    "model = CNNS(len(word2id), len(symbol2id), 100, 8)\n",
    "optimizer = optim.Adam(model.parameters(), lr=0.0005)\n",
    "criterion = nn.BCELoss()  \n",
    "\n",
    "model = model.to(DEVICE)\n",
    "criterion = criterion.to(DEVICE)"
   ]
  },
  {
   "cell_type": "code",
   "execution_count": 109,
   "id": "26170199",
   "metadata": {
    "scrolled": true
   },
   "outputs": [
    {
     "name": "stdout",
     "output_type": "stream",
     "text": [
      "\n",
      "starting Epoch 0\n",
      "Training...\n",
      "Train loss: 0.7624250650405884\n",
      "Train loss: 0.7256802916526794\n",
      "Train loss: 0.7129198163747787\n",
      "Train loss: 0.7050443342176534\n",
      "Train loss: 0.6993128182114782\n",
      "\n",
      "Evaluating on train...\n",
      "Val loss: 0.7261485031672886, Val f1: 0.7217736840248108\n",
      "Val loss: 0.701836411295266, Val f1: 0.693128228187561\n",
      "Val loss: 0.6932575513016094, Val f1: 0.6879402995109558\n",
      "Val loss: 0.6890051849817825, Val f1: 0.6856518983840942\n",
      "Val loss: 0.6866453692719743, Val f1: 0.6835368275642395\n",
      "\n",
      "Evaluating on test...\n",
      "Val loss: 0.9043973286946615, Val f1: 0.9017200469970703\n",
      "Val loss: 0.7753978456769671, Val f1: 0.7636064887046814\n",
      "Val loss: 0.739358284256675, Val f1: 0.7338882684707642\n",
      "Val loss: 0.7226108272870382, Val f1: 0.7183004021644592\n",
      "Val loss: 0.7132284107961153, Val f1: 0.708351194858551\n",
      "\n",
      "starting Epoch 1\n",
      "Training...\n",
      "Train loss: 0.7177381898675647\n",
      "Train loss: 0.6917649939142424\n",
      "Train loss: 0.6826983134854924\n",
      "Train loss: 0.6769812137393628\n",
      "Train loss: 0.6730192351985622\n",
      "\n",
      "Evaluating on train...\n",
      "Val loss: 0.7109152717249734, Val f1: 0.72442227602005\n",
      "Val loss: 0.6864729050932259, Val f1: 0.6997300386428833\n",
      "Val loss: 0.6788706129247492, Val f1: 0.6932054162025452\n",
      "Val loss: 0.6751777499409045, Val f1: 0.6892049312591553\n",
      "Val loss: 0.6727963798754925, Val f1: 0.6880019307136536\n",
      "\n",
      "Evaluating on test...\n",
      "Val loss: 0.8872352043787638, Val f1: 0.9076794981956482\n",
      "Val loss: 0.7608105284827096, Val f1: 0.7663903832435608\n",
      "Val loss: 0.7256630875847556, Val f1: 0.7352657318115234\n",
      "Val loss: 0.7088569323221843, Val f1: 0.7196757197380066\n",
      "Val loss: 0.6997803669226798, Val f1: 0.7106963992118835\n",
      "\n",
      "starting Epoch 2\n",
      "Training...\n",
      "Train loss: 0.7029288836887905\n",
      "Train loss: 0.6759887995391056\n",
      "Train loss: 0.6661585610021244\n",
      "Train loss: 0.6608303785324097\n",
      "Train loss: 0.6560979880191184\n",
      "\n",
      "Evaluating on train...\n",
      "Val loss: 0.7004242752279554, Val f1: 0.7476183176040649\n",
      "Val loss: 0.6776800710579445, Val f1: 0.7183099985122681\n",
      "Val loss: 0.6697129349816929, Val f1: 0.7114953398704529\n",
      "Val loss: 0.6660193174572314, Val f1: 0.7064006328582764\n",
      "Val loss: 0.6636512746682038, Val f1: 0.7049866914749146\n",
      "\n",
      "Evaluating on test...\n",
      "Val loss: 0.8765135208765665, Val f1: 0.9232966899871826\n",
      "Val loss: 0.7523538214819772, Val f1: 0.7852911353111267\n",
      "Val loss: 0.7170020125129006, Val f1: 0.7539570331573486\n",
      "Val loss: 0.700050413608551, Val f1: 0.7380993962287903\n",
      "Val loss: 0.6912203964434172, Val f1: 0.7292932868003845\n",
      "\n",
      "starting Epoch 3\n",
      "Training...\n",
      "Train loss: 0.6847112476825714\n",
      "Train loss: 0.6587022830700052\n",
      "Train loss: 0.650645377961072\n",
      "Train loss: 0.6452375428151276\n",
      "Train loss: 0.6425064947154071\n",
      "\n",
      "Evaluating on train...\n",
      "Val loss: 0.6877432465553284, Val f1: 0.7499246597290039\n",
      "Val loss: 0.6654513046659273, Val f1: 0.7226700782775879\n",
      "Val loss: 0.6578654077920046, Val f1: 0.7129862308502197\n",
      "Val loss: 0.6544389583296695, Val f1: 0.7088478803634644\n",
      "Val loss: 0.6514497133525642, Val f1: 0.7083892226219177\n",
      "\n",
      "Evaluating on test...\n",
      "Val loss: 0.8618055184682211, Val f1: 0.9290087819099426\n",
      "Val loss: 0.7399577498435974, Val f1: 0.7879531979560852\n",
      "Val loss: 0.7052281932397322, Val f1: 0.7555492520332336\n",
      "Val loss: 0.6884048302968343, Val f1: 0.7399119138717651\n",
      "Val loss: 0.6798220214090849, Val f1: 0.7304425239562988\n",
      "\n",
      "starting Epoch 4\n",
      "Training...\n",
      "Train loss: 0.6705207186085838\n",
      "Train loss: 0.6489854598867482\n",
      "Train loss: 0.6413034999912436\n",
      "Train loss: 0.6361675201836279\n",
      "Train loss: 0.6329054155865231\n",
      "\n",
      "Evaluating on train...\n",
      "Val loss: 0.6770470227513995, Val f1: 0.7528079748153687\n",
      "Val loss: 0.6548919184454556, Val f1: 0.7242422699928284\n",
      "Val loss: 0.6471701657230203, Val f1: 0.7150054574012756\n",
      "Val loss: 0.644111305980359, Val f1: 0.7094928026199341\n",
      "Val loss: 0.641616427415126, Val f1: 0.707778811454773\n",
      "\n",
      "Evaluating on test...\n",
      "Val loss: 0.8498307665189108, Val f1: 0.9266529083251953\n",
      "Val loss: 0.7297945618629456, Val f1: 0.7865871787071228\n",
      "Val loss: 0.6956751075657931, Val f1: 0.753378689289093\n",
      "Val loss: 0.679026210308075, Val f1: 0.7386299967765808\n",
      "Val loss: 0.6705346138853776, Val f1: 0.7294713854789734\n",
      "\n",
      "starting Epoch 5\n",
      "Training...\n",
      "Train loss: 0.6666662352425712\n",
      "Train loss: 0.6416709464171837\n",
      "Train loss: 0.6331936784765937\n",
      "Train loss: 0.6287892046621291\n",
      "Train loss: 0.6251966502215411\n",
      "\n",
      "Evaluating on train...\n",
      "Val loss: 0.6691144747393472, Val f1: 0.7285809516906738\n",
      "Val loss: 0.6469899827036364, Val f1: 0.7041179537773132\n",
      "Val loss: 0.6389100768349387, Val f1: 0.6969308257102966\n",
      "Val loss: 0.6355958580970764, Val f1: 0.6930645704269409\n",
      "Val loss: 0.6325015562611658, Val f1: 0.691825270652771\n",
      "\n",
      "Evaluating on test...\n",
      "Val loss: 0.8384697039922079, Val f1: 0.8967310786247253\n",
      "Val loss: 0.7196199297904968, Val f1: 0.7644157409667969\n",
      "Val loss: 0.6865966861898248, Val f1: 0.7317476868629456\n",
      "Val loss: 0.6700842658678691, Val f1: 0.7213732004165649\n",
      "Val loss: 0.6616459175160057, Val f1: 0.7102994322776794\n",
      "\n",
      "starting Epoch 6\n",
      "Training...\n",
      "Train loss: 0.6584376352173942\n",
      "Train loss: 0.6323609311005165\n",
      "Train loss: 0.6252386393872175\n",
      "Train loss: 0.62072870589919\n",
      "Train loss: 0.6191412766237516\n",
      "\n",
      "Evaluating on train...\n",
      "Val loss: 0.6617197436945779, Val f1: 0.7450376749038696\n",
      "Val loss: 0.639853454869369, Val f1: 0.7155131101608276\n",
      "Val loss: 0.6329386098818346, Val f1: 0.7057014107704163\n",
      "Val loss: 0.6295953342470072, Val f1: 0.7018460631370544\n",
      "Val loss: 0.6275002150922209, Val f1: 0.6997014880180359\n",
      "\n",
      "Evaluating on test...\n",
      "Val loss: 0.8326785564422607, Val f1: 0.9073001742362976\n",
      "Val loss: 0.7148745230266026, Val f1: 0.7730326056480408\n",
      "Val loss: 0.6819959716363386, Val f1: 0.7400007843971252\n",
      "Val loss: 0.6655161023139954, Val f1: 0.7286183834075928\n",
      "Val loss: 0.6571172193477028, Val f1: 0.7180975079536438\n",
      "\n",
      "starting Epoch 7\n",
      "Training...\n",
      "Train loss: 0.6530152388981411\n",
      "Train loss: 0.6280522634243143\n",
      "Train loss: 0.6203090020201423\n",
      "Train loss: 0.6163665268380764\n",
      "Train loss: 0.6138747439191148\n",
      "\n",
      "Evaluating on train...\n",
      "Val loss: 0.6593323605401176, Val f1: 0.7313689589500427\n",
      "Val loss: 0.6351089826945601, Val f1: 0.7070223093032837\n",
      "Val loss: 0.6277777430686083, Val f1: 0.698430597782135\n",
      "Val loss: 0.6236139515698966, Val f1: 0.6968218684196472\n",
      "Val loss: 0.6217069496979585, Val f1: 0.6939973831176758\n",
      "\n",
      "Evaluating on test...\n",
      "Val loss: 0.8264018297195435, Val f1: 0.8946197628974915\n",
      "Val loss: 0.7090785162789481, Val f1: 0.7629662752151489\n",
      "Val loss: 0.6768682490695607, Val f1: 0.731048047542572\n",
      "Val loss: 0.6604440132776896, Val f1: 0.7197948694229126\n",
      "Val loss: 0.6520591660549766, Val f1: 0.7098396420478821\n",
      "\n",
      "starting Epoch 8\n",
      "Training...\n",
      "Train loss: 0.6486671183790479\n",
      "Train loss: 0.6236434167829054\n",
      "Train loss: 0.6140466102144935\n",
      "Train loss: 0.6113629674507399\n",
      "Train loss: 0.6094567485757776\n",
      "\n",
      "Evaluating on train...\n",
      "Val loss: 0.65745980824743, Val f1: 0.7567978501319885\n",
      "Val loss: 0.6341053247451782, Val f1: 0.7324891686439514\n",
      "Val loss: 0.6273014572533694, Val f1: 0.7240228056907654\n",
      "Val loss: 0.6239870281542762, Val f1: 0.7193569540977478\n",
      "Val loss: 0.6220520412599718, Val f1: 0.716254472732544\n",
      "\n",
      "Evaluating on test...\n",
      "Val loss: 0.8272682825724283, Val f1: 0.9324988722801208\n",
      "Val loss: 0.7106039098330906, Val f1: 0.7938812375068665\n",
      "Val loss: 0.6776343529874628, Val f1: 0.7586313486099243\n",
      "Val loss: 0.661114776134491, Val f1: 0.7446759343147278\n",
      "Val loss: 0.6526982815642106, Val f1: 0.7359562516212463\n",
      "\n",
      "starting Epoch 9\n",
      "Training...\n",
      "Train loss: 0.643100163766316\n",
      "Train loss: 0.6175735140668934\n",
      "Train loss: 0.6114437187259848\n",
      "Train loss: 0.6080754702374086\n",
      "Train loss: 0.6058023918319393\n",
      "\n",
      "Evaluating on train...\n",
      "Val loss: 0.6525253738675799, Val f1: 0.7450572848320007\n",
      "Val loss: 0.6287141154552328, Val f1: 0.7240421772003174\n",
      "Val loss: 0.621302224018357, Val f1: 0.7162876129150391\n",
      "Val loss: 0.6182809664031207, Val f1: 0.7119162082672119\n",
      "Val loss: 0.6161567311029177, Val f1: 0.7090743184089661\n",
      "\n",
      "Evaluating on test...\n",
      "Val loss: 0.8197556734085083, Val f1: 0.9150552749633789\n",
      "Val loss: 0.7036391156060355, Val f1: 0.7811830639839172\n",
      "Val loss: 0.6714554591612383, Val f1: 0.7473602294921875\n",
      "Val loss: 0.6549769719441731, Val f1: 0.7358497381210327\n",
      "Val loss: 0.6466161138132999, Val f1: 0.7264624834060669\n"
     ]
    }
   ],
   "source": [
    "losses = []\n",
    "losses_eval = []\n",
    "f1s = []\n",
    "f1s_eval = []\n",
    "\n",
    "for i in range(10):\n",
    "    print(f'\\nstarting Epoch {i}')\n",
    "    print('Training...')\n",
    "    epoch_loss = train(model, train_iterator, optimizer, criterion)\n",
    "    losses.append(epoch_loss)\n",
    "    print('\\nEvaluating on train...')\n",
    "    f1_on_train,_ = evaluate(model, train_iterator, criterion)\n",
    "    f1s.append(f1_on_train)\n",
    "    print('\\nEvaluating on test...')\n",
    "    f1_on_test, epoch_loss_on_test = evaluate(model, val_iterator, criterion)\n",
    "    losses_eval.append(epoch_loss_on_test)\n",
    "    f1s_eval.append(f1_on_test)"
   ]
  },
  {
   "cell_type": "code",
   "execution_count": 110,
   "id": "0f1008e2",
   "metadata": {},
   "outputs": [
    {
     "data": {
      "image/png": "[encoded data removed]",
      "text/plain": [
       "<Figure size 432x288 with 1 Axes>"
      ]
     },
     "metadata": {
      "needs_background": "light"
     },
     "output_type": "display_data"
    }
   ],
   "source": [
    "import matplotlib.pyplot as plt\n",
    "plt.plot(losses)\n",
    "plt.plot(losses_eval)\n",
    "plt.title('BCE loss value')\n",
    "plt.ylabel('BCE loss')\n",
    "plt.xlabel('epoch')\n",
    "plt.legend(['train', 'val'], loc='upper right')\n",
    "plt.show()"
   ]
  },
  {
   "cell_type": "code",
   "execution_count": 111,
   "id": "fce6339d",
   "metadata": {},
   "outputs": [
    {
     "data": {
      "image/png": "[encoded data removed]",
      "text/plain": [
       "<Figure size 432x288 with 1 Axes>"
      ]
     },
     "metadata": {
      "needs_background": "light"
     },
     "output_type": "display_data"
    }
   ],
   "source": [
    "import matplotlib.pyplot as plt\n",
    "plt.plot(f1s)\n",
    "plt.plot(f1s_eval)\n",
    "plt.title('f1 value')\n",
    "plt.ylabel('f1 value')\n",
    "plt.xlabel('epoch')\n",
    "plt.legend(['train', 'val'], loc='upper right')\n",
    "plt.show()"
   ]
  },
  {
   "cell_type": "code",
   "execution_count": null,
   "id": "017a22db",
   "metadata": {},
   "outputs": [],
   "source": []
  }
 ],
 "metadata": {
  "kernelspec": {
   "display_name": "Python 3",
   "language": "python",
   "name": "python3"
  },
  "language_info": {
   "codemirror_mode": {
    "name": "ipython",
    "version": 3
   },
   "file_extension": ".py",
   "mimetype": "text/x-python",
   "name": "python",
   "nbconvert_exporter": "python",
   "pygments_lexer": "ipython3",
   "version": "3.8.8"
  }
 },
 "nbformat": 4,
 "nbformat_minor": 5
}
